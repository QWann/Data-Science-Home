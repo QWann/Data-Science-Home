{
 "cells": [
  {
   "cell_type": "markdown",
   "metadata": {},
   "source": [
    "---\n",
    "\n",
    "_You are currently looking at **version 1.1** of this notebook. To download notebooks and datafiles, as well as get help on Jupyter notebooks in the Coursera platform, visit the [Jupyter Notebook FAQ](https://www.coursera.org/learn/python-machine-learning/resources/bANLa) course resource._\n",
    "\n",
    "---"
   ]
  },
  {
   "cell_type": "markdown",
   "metadata": {},
   "source": [
    "## Understanding and Predicting Property Maintenance Fines\n",
    "\n",
    "This project is based on a data challenge from the Michigan Data Science Team ([MDST](http://midas.umich.edu/mdst/)). \n",
    "\n",
    "The Michigan Data Science Team ([MDST](http://midas.umich.edu/mdst/)) and the Michigan Student Symposium for Interdisciplinary Statistical Sciences ([MSSISS](https://sites.lsa.umich.edu/mssiss/)) have partnered with the City of Detroit to help solve one of the most pressing problems facing Detroit - blight. [Blight violations](http://www.detroitmi.gov/How-Do-I/Report/Blight-Complaint-FAQs) are issued by the city to individuals who allow their properties to remain in a deteriorated condition. Every year, the city of Detroit issues millions of dollars in fines to residents and every year, many of these fines remain unpaid. Enforcing unpaid blight fines is a costly and tedious process, so the city wants to know: how can we increase blight ticket compliance?\n",
    "\n",
    "\n",
    "All data for this assignment has been provided through the [Detroit Open Data Portal](https://data.detroitmi.gov/).\n",
    "\n",
    "___\n",
    "\n",
    "\n",
    "<br>\n",
    "\n",
    "**File descriptions** \n",
    "\n",
    "    readonly/train.csv - the training set (all tickets issued 2004-2011)\n",
    "    readonly/test.csv - the test set (all tickets issued 2012-2016)\n",
    "    readonly/addresses.csv & readonly/latlons.csv - mapping from ticket id to addresses, and from addresses to lat/lon coordinates. \n",
    "     Note: misspelled addresses may be incorrectly geolocated.\n",
    "\n",
    "<br>\n",
    "\n",
    "**Data fields**\n",
    "\n",
    "train.csv & test.csv\n",
    "\n",
    "    ticket_id - unique identifier for tickets\n",
    "    agency_name - Agency that issued the ticket\n",
    "    inspector_name - Name of inspector that issued the ticket\n",
    "    violator_name - Name of the person/organization that the ticket was issued to\n",
    "    violation_street_number, violation_street_name, violation_zip_code - Address where the violation occurred\n",
    "    mailing_address_str_number, mailing_address_str_name, city, state, zip_code, non_us_str_code, country - Mailing address of the violator\n",
    "    ticket_issued_date - Date and time the ticket was issued\n",
    "    hearing_date - Date and time the violator's hearing was scheduled\n",
    "    violation_code, violation_description - Type of violation\n",
    "    disposition - Judgment and judgement type\n",
    "    fine_amount - Violation fine amount, excluding fees\n",
    "    admin_fee - $20 fee assigned to responsible judgments\n",
    "state_fee - $10 fee assigned to responsible judgments\n",
    "    late_fee - 10% fee assigned to responsible judgments\n",
    "    discount_amount - discount applied, if any\n",
    "    clean_up_cost - DPW clean-up or graffiti removal cost\n",
    "    judgment_amount - Sum of all fines and fees\n",
    "    grafitti_status - Flag for graffiti violations\n",
    "    \n",
    "train.csv only\n",
    "\n",
    "    payment_amount - Amount paid, if any\n",
    "    payment_date - Date payment was made, if it was received\n",
    "    payment_status - Current payment status as of Feb 1 2017\n",
    "    balance_due - Fines and fees still owed\n",
    "    collection_status - Flag for payments in collections\n",
    "    compliance [target variable for prediction] \n",
    "     Null = Not responsible\n",
    "     0 = Responsible, non-compliant\n",
    "     1 = Responsible, compliant\n",
    "    compliance_detail - More information on why each ticket was marked compliant or non-compliant\n",
    "\n",
    "\n"
   ]
  },
  {
   "cell_type": "code",
   "execution_count": 4,
   "metadata": {},
   "outputs": [
    {
     "name": "stdout",
     "output_type": "stream",
     "text": [
      "The original dataset has shape: (250306, 34)\n",
      "The class distribution is: <90426 non responsible>, <11597 compliant> and <148283 non compliant>\n",
      "After removing non responsible tickets: (159880, 34)\n",
      "Training dataset shape before alignment: (107721, 743)\n",
      "Testing dataset shape before alignment: (35907, 547)\n",
      "Training dataset shape after alignment: (107721, 475)\n",
      "Testing dataset shape after alignment: (35907, 475)\n",
      "Grid best parameters (best AUC): {'max_depth': 15, 'n_estimators': 1000}\n",
      "Grid best AUC: 0.804753619392012\n",
      "AUC score on test set: 0.8115665253692019\n"
     ]
    }
   ],
   "source": [
    "import pandas as pd\n",
    "import numpy as np\n",
    "from sklearn.preprocessing import OneHotEncoder\n",
    "from sklearn.model_selection import GridSearchCV\n",
    "from sklearn.ensemble import RandomForestClassifier\n",
    "from sklearn.metrics import roc_auc_score\n",
    "from sklearn.model_selection import train_test_split\n",
    "from sklearn.dummy import DummyClassifier\n",
    "    \n",
    "dataset = pd.read_csv('train.csv', encoding = 'ISO-8859-1')\n",
    "\n",
    "\n",
    "# let's explore the data first\n",
    "# We count how many instances of each class we have in the original dataset\n",
    "\n",
    "counts = dataset[\"compliance\"].value_counts() # only counts numeric values (i.e will miss N.a.N)\n",
    "NR_counts = len(dataset) - (counts[0] + counts[1])\n",
    "\n",
    "print('The original dataset has shape: {}'.format(np.shape(dataset)))\n",
    "print('The class distribution is: <{} non responsible>, <{} compliant> and <{} non compliant>'.\\\n",
    "      format(NR_counts, counts[1], counts[0]))#print()\n",
    "\n",
    "print()\n",
    "\n",
    "# We remove tickets that were considered not valid (i.e we don't know the label)\n",
    "dataset = dataset.dropna(subset=['compliance'])\n",
    "print('After removing non responsible tickets: {}'.format(np.shape(dataset)))\n",
    "\n",
    "# We remove entries of people that have invalid zip_codes\n",
    "dataset['zip_code'] = pd.to_numeric(dataset['zip_code'], errors = 'coerce')\n",
    "dataset = dataset.dropna(subset=['zip_code'])\n",
    "    \n",
    "# We remove people not living in detroit\n",
    "dataset['zip_code'] = dataset['zip_code'].astype(str)\n",
    "dataset = dataset[(dataset['zip_code'].str.len() == 7)]\n",
    "bool_mask = dataset['zip_code'].apply(lambda x: True if x[0] == '4' else False)\n",
    "dataset = dataset[bool_mask]\n",
    "                                              \n",
    "\n",
    "    \n",
    "# Now we can create our training and testing split  \n",
    "X = dataset.drop(columns = 'compliance')\n",
    "y = dataset['compliance']\n",
    "X_train, X_test, y_train, y_test = train_test_split(X, y, random_state=0)\n",
    "\n",
    "num_features = ['fine_amount', 'judgment_amount','discount_amount', 'clean_up_cost']\n",
    "cat_features = ['disposition', 'zip_code']\n",
    "\n",
    "X_train = X_train[num_features + cat_features]\n",
    "X_test = X_test[num_features + cat_features]\n",
    "   \n",
    "# Now we transform categorical variables 'disposition', 'zip_code', into one hot encoded features\n",
    "one_hot_encoding = pd.get_dummies(X_train[cat_features])\n",
    "X_train = pd.concat([X_train[num_features], one_hot_encoding], axis=1)\n",
    "    \n",
    "one_hot_encoding_test = pd.get_dummies(X_test[cat_features])\n",
    "X_test = pd.concat([X_test[num_features], one_hot_encoding_test], axis=1)\n",
    "\n",
    "    \n",
    "print('Training dataset shape before alignment: {}'.format(np.shape(X_train)))\n",
    "print('Testing dataset shape before alignment: {}'.format(np.shape(X_test)))\n",
    "    \n",
    "X_train, X_test = X_train.align(X_test, join='inner', axis=1)\n",
    "\n",
    "print('Training dataset shape after alignment: {}'.format(np.shape(X_train)))\n",
    "print('Testing dataset shape after alignment: {}'.format(np.shape(X_test)))\n",
    "\n",
    "print()\n",
    "    \n",
    "####################################################################################################\n",
    "## block when optimizing for parameters\n",
    "\n",
    "parameters = {'n_estimators': [100,1000], 'max_depth':[10,15,20]}\n",
    "RF = RandomForestClassifier()\n",
    "# we perform a search with the auc parameter because of the class imbalance. \n",
    "clf_grid_auc = GridSearchCV(RF, parameters, cv = 3, scoring = 'roc_auc')\n",
    "clf_grid_auc.fit(X_train, y_train)\n",
    "#print(clf_grid_auc.cv_results_)\n",
    "    \n",
    "print('Grid best parameters (best AUC): {}'.format(clf_grid_auc.best_params_))\n",
    "print('Grid best AUC: {}'.format(clf_grid_auc.best_score_))\n",
    "    \n",
    "probas = clf_grid_auc.predict_proba(X_test)\n",
    "predicted = probas[:,1]\n",
    "AUC_score = roc_auc_score(y_test, predicted)\n",
    "print('AUC score on test set: {}'.format(AUC_score))\n",
    "\n",
    "# comparing our AUC score with dummy classifier\n",
    "\n",
    "dummy = DummyClassifier(strategy='stratified').fit(X_train, y_train)\n",
    "predicted = dummy.predict(X_test)\n",
    "AUC_dummy = roc_auc_score(y_test, predicted)\n",
    "print('Dummy classifier AUC on testset: {}'.format(AUC_dummy))\n",
    "\n",
    "\n",
    "#####################################################################################################\n",
    "# Here we know which parameters work best : used for testing or submiting\n",
    "\n",
    "#RF = RandomForestClassifier(max_depth=15, n_estimators=1000).fit(X_train, y_train)\n",
    "#predicted = RF.predict_proba(X_train)\n",
    "#predicted = predicted[:,1] #we only keep prediciton for the positive class\n",
    "#AUC_score = roc_auc_score(y_train, predicted)\n",
    "#print('AUC score on training set: {}'.format(AUC_score))\n",
    "#probas = RF.predict_proba(X_test)\n",
    "    \n",
    " "
   ]
  },
  {
   "cell_type": "markdown",
   "metadata": {},
   "source": [
    "## RandomForest evaluation"
   ]
  },
  {
   "cell_type": "code",
   "execution_count": 26,
   "metadata": {},
   "outputs": [
    {
     "name": "stdout",
     "output_type": "stream",
     "text": [
      "RandomForestClassifier(bootstrap=True, class_weight=None, criterion='gini',\n",
      "                       max_depth=15, max_features='auto', max_leaf_nodes=None,\n",
      "                       min_impurity_decrease=0.0, min_impurity_split=None,\n",
      "                       min_samples_leaf=1, min_samples_split=2,\n",
      "                       min_weight_fraction_leaf=0.0, n_estimators=1000,\n",
      "                       n_jobs=None, oob_score=False, random_state=None,\n",
      "                       verbose=0, warm_start=False)\n"
     ]
    },
    {
     "data": {
      "image/png": "[encoded data removed]",
      "text/plain": [
       "<Figure size 864x216 with 1 Axes>"
      ]
     },
     "metadata": {
      "needs_background": "light"
     },
     "output_type": "display_data"
    },
    {
     "name": "stdout",
     "output_type": "stream",
     "text": [
      "the 10 most important features are:\n",
      "Index(['disposition_Responsible by Default', 'discount_amount',\n",
      "       'judgment_amount', 'disposition_Responsible by Admission',\n",
      "       'disposition_Responsible by Determination', 'fine_amount',\n",
      "       'disposition_Responsible (Fine Waived) by Deter', 'zip_code_48037.0',\n",
      "       'zip_code_48216.0', 'zip_code_48209.0'],\n",
      "      dtype='object')\n"
     ]
    }
   ],
   "source": [
    "import matplotlib.pyplot as plt\n",
    "import seaborn as sns\n",
    "import numpy as np\n",
    "  \n",
    "# We plot the feature importances returned by our ensemble of trees\n",
    "\n",
    "estimator = clf_grid_auc.best_estimator_\n",
    "print(estimator)\n",
    "importance = estimator.feature_importances_\n",
    "\n",
    "std = np.std([tree.feature_importances_ for tree in estimator.estimators_])\n",
    "indices = np.argsort(importance)[::-1] # put indice in descending order\n",
    "\n",
    "plt.figure(figsize=(12,3))\n",
    "plt.title('feature importance')\n",
    "plt.bar(range(len(X_train.columns)), importance[indices])\n",
    "plt.xlim([0,50])\n",
    "plt.show()\n",
    "\n",
    "# from plot we can try to chose better features by only taking the n most important features\n",
    "n=10 # 10 most important features are retained\n",
    "imp_features = X_train.columns[indices[:n]]\n",
    "\n",
    "print('the 10 most important features are:')\n",
    "print(imp_features)"
   ]
  },
  {
   "cell_type": "markdown",
   "metadata": {},
   "source": [
    "### New model creation with our feature selection approach"
   ]
  },
  {
   "cell_type": "code",
   "execution_count": 27,
   "metadata": {},
   "outputs": [
    {
     "name": "stdout",
     "output_type": "stream",
     "text": [
      "Grid best parameters (best AUC): {'max_depth': 15, 'n_estimators': 1000}\n",
      "Grid best AUC: 0.800666987628207\n",
      "AUC score on test set: 0.8082308955820587\n",
      "Dummy classifier AUC on testset: 0.5016284645613363\n"
     ]
    }
   ],
   "source": [
    "X_train = X_train[imp_features]\n",
    "X_test = X_test[imp_features]\n",
    "\n",
    "parameters = {'n_estimators': [100,1000], 'max_depth':[10,15,20]}\n",
    "RF_2 = RandomForestClassifier()\n",
    "# we perform a search with the auc parameter because of the class imbalance. \n",
    "clf_grid_auc_2 = GridSearchCV(RF_2, parameters, cv = 3, scoring = 'roc_auc')\n",
    "clf_grid_auc_2.fit(X_train, y_train)\n",
    "#print(clf_grid_auc.cv_results_)\n",
    "    \n",
    "print('Grid best parameters (best AUC): {}'.format(clf_grid_auc_2.best_params_))\n",
    "print('Grid best AUC: {}'.format(clf_grid_auc_2.best_score_))\n",
    "    \n",
    "probas = clf_grid_auc_2.predict_proba(X_test)\n",
    "predicted = probas[:,1]\n",
    "AUC_score = roc_auc_score(y_test, predicted)\n",
    "print('AUC score on test set: {}'.format(AUC_score))\n",
    "\n",
    "# comparing our AUC score with dummy classifier\n",
    "\n",
    "dummy = DummyClassifier(strategy='stratified').fit(X_train, y_train)\n",
    "predicted = dummy.predict(X_test)\n",
    "AUC_dummy = roc_auc_score(y_test, predicted)\n",
    "print('Dummy classifier AUC on testset: {}'.format(AUC_dummy))\n"
   ]
  },
  {
   "cell_type": "code",
   "execution_count": null,
   "metadata": {},
   "outputs": [],
   "source": []
  }
 ],
 "metadata": {
  "coursera": {
   "course_slug": "python-machine-learning",
   "graded_item_id": "nNS8l",
   "launcher_item_id": "yWWk7",
   "part_id": "w8BSS"
  },
  "kernelspec": {
   "display_name": "Python 3",
   "language": "python",
   "name": "python3"
  },
  "language_info": {
   "codemirror_mode": {
    "name": "ipython",
    "version": 3
   },
   "file_extension": ".py",
   "mimetype": "text/x-python",
   "name": "python",
   "nbconvert_exporter": "python",
   "pygments_lexer": "ipython3",
   "version": "3.7.3"
  }
 },
 "nbformat": 4,
 "nbformat_minor": 2
}
